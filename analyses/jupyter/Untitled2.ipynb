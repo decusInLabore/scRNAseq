{
 "cells": [
  {
   "cell_type": "code",
   "execution_count": null,
   "id": "7f4d6806",
   "metadata": {},
   "outputs": [],
   "source": [
    "getwd()"
   ]
  },
  {
   "cell_type": "markdown",
   "id": "b17fac09",
   "metadata": {},
   "source": [
    "#Test"
   ]
  },
  {
   "cell_type": "markdown",
   "id": "136ed650",
   "metadata": {},
   "source": [
    "# Test"
   ]
  },
  {
   "cell_type": "markdown",
   "id": "c2bb4d22",
   "metadata": {},
   "source": [
    "## Test"
   ]
  },
  {
   "cell_type": "markdown",
   "id": "827ce4c4",
   "metadata": {},
   "source": [
    "This is some sort of text."
   ]
  },
  {
   "cell_type": "code",
   "execution_count": null,
   "id": "30a1e9c8",
   "metadata": {},
   "outputs": [],
   "source": []
  }
 ],
 "metadata": {
  "kernelspec": {
   "display_name": "R403noRenv",
   "language": "R",
   "name": "r403norenv"
  }
 },
 "nbformat": 4,
 "nbformat_minor": 5
}
