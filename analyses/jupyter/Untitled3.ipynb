{
 "cells": [
  {
   "cell_type": "code",
   "execution_count": null,
   "id": "f681a7eb",
   "metadata": {},
   "outputs": [],
   "source": [
    "getwd()"
   ]
  },
  {
   "cell_type": "code",
   "execution_count": null,
   "id": "f75a1faf",
   "metadata": {},
   "outputs": [],
   "source": []
  }
 ],
 "metadata": {
  "kernelspec": {
   "display_name": "R403noRenv",
   "language": "R",
   "name": "r403norenv"
  }
 },
 "nbformat": 4,
 "nbformat_minor": 5
}
