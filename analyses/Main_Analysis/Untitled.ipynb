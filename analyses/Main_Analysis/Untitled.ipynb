{
 "cells": [
  {
   "cell_type": "code",
   "execution_count": 1,
   "id": "4d703ae8",
   "metadata": {},
   "outputs": [
    {
     "data": {
      "text/html": [
       "'/nemo/stp/babs/working/boeings/Projects/schaefera/tobias.ackels/545_scRNAseq_subclustering_GC_clusters_of_319A_SC19135/scripts/scRNAseq/analyses/Main_Analysis'"
      ],
      "text/latex": [
       "'/nemo/stp/babs/working/boeings/Projects/schaefera/tobias.ackels/545\\_scRNAseq\\_subclustering\\_GC\\_clusters\\_of\\_319A\\_SC19135/scripts/scRNAseq/analyses/Main\\_Analysis'"
      ],
      "text/markdown": [
       "'/nemo/stp/babs/working/boeings/Projects/schaefera/tobias.ackels/545_scRNAseq_subclustering_GC_clusters_of_319A_SC19135/scripts/scRNAseq/analyses/Main_Analysis'"
      ],
      "text/plain": [
       "[1] \"/nemo/stp/babs/working/boeings/Projects/schaefera/tobias.ackels/545_scRNAseq_subclustering_GC_clusters_of_319A_SC19135/scripts/scRNAseq/analyses/Main_Analysis\""
      ]
     },
     "metadata": {},
     "output_type": "display_data"
    }
   ],
   "source": [
    "getwd()\n"
   ]
  },
  {
   "cell_type": "code",
   "execution_count": 4,
   "id": "1a110716",
   "metadata": {},
   "outputs": [],
   "source": [
    "renv::activate()"
   ]
  },
  {
   "cell_type": "code",
   "execution_count": 5,
   "id": "f3ced89b",
   "metadata": {},
   "outputs": [
    {
     "ename": "ERROR",
     "evalue": "Error in library(Seurat): there is no package called ‘Seurat’\n",
     "output_type": "error",
     "traceback": [
      "Error in library(Seurat): there is no package called ‘Seurat’\nTraceback:\n",
      "1. library(Seurat)"
     ]
    }
   ],
   "source": [
    "library(Seurat)"
   ]
  },
  {
   "cell_type": "code",
   "execution_count": null,
   "id": "d04b3ebb",
   "metadata": {},
   "outputs": [],
   "source": []
  }
 ],
 "metadata": {
  "kernelspec": {
   "display_name": "R403noRenv",
   "language": "R",
   "name": "r403norenv"
  },
  "language_info": {
   "codemirror_mode": "r",
   "file_extension": ".r",
   "mimetype": "text/x-r-source",
   "name": "R",
   "pygments_lexer": "r",
   "version": "4.0.3"
  }
 },
 "nbformat": 4,
 "nbformat_minor": 5
}
